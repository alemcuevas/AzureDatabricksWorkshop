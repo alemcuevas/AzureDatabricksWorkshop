{
  "cells": [
    {
      "cell_type": "markdown",
      "metadata": {},
      "source": [
        "# \ud83e\uddea Laboratorio 5: Creaci\u00f3n de un Pipeline de MLOps en Databricks\n",
        "\n",
        "## \ud83c\udfaf Objetivo\n",
        "\n",
        "Crear un pipeline de MLOps que incluya entrenamiento, registro y despliegue automatizado de un modelo usando MLflow, Databricks Repos y Azure DevOps."
      ]
    },
    {
      "cell_type": "markdown",
      "metadata": {},
      "source": [
        "## \u2139\ufe0f Introducci\u00f3n\n",
        "\n",
        "MLOps combina Machine Learning con pr\u00e1cticas de DevOps para asegurar versionado, trazabilidad y automatizaci\u00f3n en modelos de ML.\n",
        "En este laboratorio usaremos MLflow para manejar el ciclo de vida del modelo y una integraci\u00f3n b\u00e1sica con DevOps para automatizar el despliegue."
      ]
    },
    {
      "cell_type": "markdown",
      "metadata": {},
      "source": [
        "## \ud83e\udde0 Conceptos Clave\n",
        "\n",
        "**MLflow**\n",
        "Plataforma open-source integrada en Databricks para gesti\u00f3n de experimentos, modelos y despliegue.\n",
        "[\ud83d\udcd8 Ver documentaci\u00f3n](https://mlflow.org/docs/latest/index.html)\n",
        "\n",
        "**Databricks Repos**\n",
        "Funcionalidad para conectar repositorios Git a Databricks y sincronizar notebooks o scripts.\n",
        "[\ud83d\udcd8 Ver documentaci\u00f3n](https://learn.microsoft.com/en-us/azure/databricks/repos/)\n",
        "\n",
        "**Azure DevOps**\n",
        "Plataforma de CI/CD y control de versiones. En este laboratorio simularemos una pipeline de despliegue desde el lado de Databricks.\n",
        "[\ud83d\udcd8 Ver documentaci\u00f3n](https://learn.microsoft.com/en-us/azure/devops/?view=azure-devops)"
      ]
    },
    {
      "cell_type": "markdown",
      "metadata": {},
      "source": [
        "## \ud83d\udee0\ufe0f Pasos del laboratorio\n",
        "\n",
        "### 1. Preparar datos de entrenamiento (dataset Iris)"
      ]
    },
    {
      "cell_type": "code",
      "execution_count": null,
      "metadata": {},
      "outputs": [],
      "source": [
        "from sklearn.datasets import load_iris\n",
        "import pandas as pd\n",
        "\n",
        "iris = load_iris()\n",
        "df = pd.DataFrame(iris.data, columns=iris.feature_names)\n",
        "df['target'] = iris.target"
      ]
    },
    {
      "cell_type": "markdown",
      "metadata": {},
      "source": [
        "### 2. Entrenar modelo con MLflow tracking"
      ]
    },
    {
      "cell_type": "code",
      "execution_count": null,
      "metadata": {},
      "outputs": [],
      "source": [
        "import mlflow\n",
        "import mlflow.sklearn\n",
        "from sklearn.model_selection import train_test_split\n",
        "from sklearn.ensemble import RandomForestClassifier\n",
        "from sklearn.metrics import accuracy_score\n",
        "\n",
        "X_train, X_test, y_train, y_test = train_test_split(df.iloc[:, :-1], df['target'], test_size=0.2)\n",
        "\n",
        "with mlflow.start_run():\n",
        "    clf = RandomForestClassifier()\n",
        "    clf.fit(X_train, y_train)\n",
        "    preds = clf.predict(X_test)\n",
        "    acc = accuracy_score(y_test, preds)\n",
        "    mlflow.log_metric(\"accuracy\", acc)\n",
        "    mlflow.sklearn.log_model(clf, \"model\")"
      ]
    },
    {
      "cell_type": "markdown",
      "metadata": {},
      "source": [
        "### 3. Registrar el modelo entrenado en MLflow Registry"
      ]
    },
    {
      "cell_type": "code",
      "execution_count": null,
      "metadata": {},
      "outputs": [],
      "source": [
        "model_uri = \"runs:/\" + mlflow.active_run().info.run_id + \"/model\"\n",
        "mlflow.register_model(model_uri, \"IrisClassifier\")"
      ]
    },
    {
      "cell_type": "markdown",
      "metadata": {},
      "source": [
        "### 4. Desplegar modelo como endpoint (Model Serving en Databricks)\n",
        "- En la UI de MLflow, selecciona el modelo registrado y habilita el endpoint de inferencia en tiempo real."
      ]
    },
    {
      "cell_type": "markdown",
      "metadata": {},
      "source": [
        "## \u2705 Validaci\u00f3n\n",
        "- Verifica que el modelo est\u00e9 disponible en la secci\u00f3n *Models* de MLflow.\n",
        "- Aseg\u00farate de que el accuracy est\u00e9 logueado correctamente.\n",
        "- Confirma que puedes consumir el endpoint del modelo (si est\u00e1 habilitado)."
      ]
    }
  ],
  "metadata": {
    "kernelspec": {
      "display_name": "Python 3",
      "language": "python",
      "name": "python3"
    },
    "language_info": {
      "name": "python",
      "version": "3.x"
    }
  },
  "nbformat": 4,
  "nbformat_minor": 5
}