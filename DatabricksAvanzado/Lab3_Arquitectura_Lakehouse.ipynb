{
  "cells": [
    {
      "cell_type": "markdown",
      "metadata": {},
      "source": [
        "# \ud83e\uddea Laboratorio 3: Creaci\u00f3n de una Arquitectura Lakehouse Completa\n",
        "\n",
        "## \ud83c\udfaf Objetivo\n",
        "\n",
        "Construir una arquitectura Lakehouse usando Databricks y Delta Lake con capas Bronze, Silver y Gold, y compartir datos entre cuentas mediante Delta Sharing."
      ]
    },
    {
      "cell_type": "markdown",
      "metadata": {},
      "source": [
        "## \u2139\ufe0f Introducci\u00f3n\n",
        "\n",
        "El enfoque Lakehouse combina lo mejor de los data lakes (almacenamiento econ\u00f3mico y escalable) con las capacidades de gesti\u00f3n de datos de los data warehouses.\n",
        "Este laboratorio se centra en aplicar este enfoque usando Delta Lake para construir una arquitectura de tres capas: Bronze, Silver y Gold, incluyendo mecanismos de compartici\u00f3n como Delta Sharing."
      ]
    },
    {
      "cell_type": "markdown",
      "metadata": {},
      "source": [
        "## \ud83e\udde0 Conceptos Clave\n",
        "\n",
        "**Delta Lake**\n",
        "Formato de almacenamiento transaccional sobre Apache Spark que permite ACID transactions, manejo de versiones y control de esquemas.\n",
        "[\ud83d\udcd8 Ver documentaci\u00f3n](https://docs.delta.io/latest/index.html)\n",
        "\n",
        "**Arquitectura Multi-Hop**\n",
        "- **Bronze**: Datos crudos sin procesar.\n",
        "- **Silver**: Datos limpios y validados.\n",
        "- **Gold**: Datos agregados o listos para consumo de negocio.\n",
        "\n",
        "**Delta Sharing**\n",
        "Protocolo abierto para compartir datos entre plataformas y organizaciones directamente desde Delta Lake.\n",
        "[\ud83d\udcd8 Ver documentaci\u00f3n](https://docs.delta.io/latest/delta-sharing.html)"
      ]
    },
    {
      "cell_type": "markdown",
      "metadata": {},
      "source": [
        "## \ud83d\udee0\ufe0f Pasos del laboratorio\n",
        "\n",
        "### 1. Ingestar datos en la capa Bronze (sin transformaci\u00f3n)"
      ]
    },
    {
      "cell_type": "code",
      "execution_count": null,
      "metadata": {},
      "outputs": [],
      "source": [
        "df_bronze = spark.read.option(\"header\", True).csv(\"/databricks-datasets/retail-org/customers/\")\n",
        "df_bronze.write.format(\"delta\").mode(\"overwrite\").save(\"/mnt/lakehouse/bronze/customers\")"
      ]
    },
    {
      "cell_type": "markdown",
      "metadata": {},
      "source": [
        "### 2. Transformar y guardar datos limpios en la capa Silver"
      ]
    },
    {
      "cell_type": "code",
      "execution_count": null,
      "metadata": {},
      "outputs": [],
      "source": [
        "df_silver = spark.read.format(\"delta\").load(\"/mnt/lakehouse/bronze/customers\")\n",
        "df_silver_clean = df_silver.dropna().dropDuplicates()\n",
        "df_silver_clean.write.format(\"delta\").mode(\"overwrite\").save(\"/mnt/lakehouse/silver/customers\")"
      ]
    },
    {
      "cell_type": "markdown",
      "metadata": {},
      "source": [
        "### 3. Crear una vista Gold con datos agregados"
      ]
    },
    {
      "cell_type": "code",
      "execution_count": null,
      "metadata": {},
      "outputs": [],
      "source": [
        "df_gold = spark.read.format(\"delta\").load(\"/mnt/lakehouse/silver/customers\")\n",
        "df_agg = df_gold.groupBy(\"state\").count()\n",
        "df_agg.write.format(\"delta\").mode(\"overwrite\").save(\"/mnt/lakehouse/gold/customers_by_state\")"
      ]
    },
    {
      "cell_type": "markdown",
      "metadata": {},
      "source": [
        "### 4. Compartir datos usando Delta Sharing (simulado)\n",
        "- En un entorno real, se debe configurar un share y un recipient desde la UI de Databricks o v\u00eda API.\n",
        "- Para este ejercicio, asumimos que los datos Gold est\u00e1n disponibles p\u00fablicamente a trav\u00e9s de Delta Sharing."
      ]
    },
    {
      "cell_type": "markdown",
      "metadata": {},
      "source": [
        "## \u2705 Validaci\u00f3n\n",
        "- Explora el contenido de cada carpeta Delta (Bronze, Silver y Gold).\n",
        "- Usa `DESCRIBE HISTORY` para verificar versionado.\n",
        "- Simula el acceso compartido de otra cuenta usando rutas absolutas en Delta Lake.\n"
      ]
    }
  ],
  "metadata": {
    "kernelspec": {
      "display_name": "Python 3",
      "language": "python",
      "name": "python3"
    },
    "language_info": {
      "name": "python",
      "version": "3.x"
    }
  },
  "nbformat": 4,
  "nbformat_minor": 5
}