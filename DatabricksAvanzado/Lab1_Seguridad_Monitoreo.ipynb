{
  "cells": [
    {
      "cell_type": "markdown",
      "metadata": {},
      "source": [
        "# \ud83e\uddea Laboratorio 1: Configuraci\u00f3n Avanzada de Seguridad y Monitoreo\n",
        "\n",
        "## \ud83c\udfaf Objetivo\n",
        "\n",
        "Configurar un entorno seguro en Azure Databricks utilizando Unity Catalog, Azure Key Vault y habilitar auditor\u00eda con Azure Monitor.\n"
      ]
    },
    {
      "cell_type": "markdown",
      "metadata": {},
      "source": [
        "## \u2139\ufe0f Introducci\u00f3n\n",
        "\n",
        "En este laboratorio aprender\u00e1s c\u00f3mo implementar medidas avanzadas de seguridad y monitoreo en un entorno de Azure Databricks.\n",
        "Estas medidas incluyen:\n",
        "- Gobernanza de datos con Unity Catalog\n",
        "- Gesti\u00f3n de secretos con Azure Key Vault\n",
        "- Auditor\u00eda centralizada con Azure Monitor y Log Analytics\n",
        "\n",
        "Estas pr\u00e1cticas forman parte de una estrategia de seguridad empresarial alineada con Zero Trust y cumplimiento de normativas como GDPR, HIPAA o ISO 27001."
      ]
    },
    {
      "cell_type": "markdown",
      "metadata": {},
      "source": [
        "## \ud83e\udde0 Conceptos Clave\n",
        "\n",
        "**Unity Catalog**\n",
        "Es el sistema de control de acceso centralizado de Databricks. Permite definir permisos a nivel de metastore, cat\u00e1logo, esquema, tabla y vista. Soporta auditor\u00eda detallada y est\u00e1 integrado con Azure Active Directory (AAD).\n",
        "\n",
        "[\ud83d\udcd8 Ver documentaci\u00f3n](https://learn.microsoft.com/en-us/azure/databricks/data-governance/unity-catalog)\n",
        "\n",
        "**Azure Key Vault**\n",
        "Es un servicio de Azure para la gesti\u00f3n de secretos, claves y certificados. En Databricks se usa mediante *secret scopes* para almacenar contrase\u00f1as, tokens u otras credenciales.\n",
        "\n",
        "[\ud83d\udcd8 Ver documentaci\u00f3n](https://learn.microsoft.com/en-us/azure/key-vault/general/overview)\n",
        "\n",
        "**Azure Monitor + Log Analytics**\n",
        "Plataforma de observabilidad de Azure. Permite recolectar logs de auditor\u00eda desde Databricks y analizarlos mediante KQL (Kusto Query Language).\n",
        "\n",
        "[\ud83d\udcd8 Ver documentaci\u00f3n](https://learn.microsoft.com/en-us/azure/azure-monitor/overview)"
      ]
    },
    {
      "cell_type": "markdown",
      "metadata": {},
      "source": [
        "## \ud83d\udee0\ufe0f Pasos del laboratorio\n",
        "\n",
        "### 1. Crear un Metastore en Unity Catalog (si no existe)\n",
        "- Accede al portal de Azure Databricks.\n",
        "- Navega a **Data** > **Metastores** > **Create Metastore**.\n",
        "- Asigna un nombre, regi\u00f3n y cuenta de almacenamiento (con mounted container en ADLS Gen2)."
      ]
    },
    {
      "cell_type": "code",
      "execution_count": null,
      "metadata": {},
      "outputs": [],
      "source": [
        "USE CATALOG main;\n",
        "CREATE SCHEMA IF NOT EXISTS seguridad_demo;\n",
        "USE seguridad_demo;\n",
        "CREATE TABLE ejemplo_seguridad (\n",
        "    id INT,\n",
        "    valor STRING\n",
        ");"
      ]
    },
    {
      "cell_type": "markdown",
      "metadata": {},
      "source": [
        "### 3. Configurar control de acceso en Unity Catalog"
      ]
    },
    {
      "cell_type": "code",
      "execution_count": null,
      "metadata": {},
      "outputs": [],
      "source": [
        "GRANT SELECT ON TABLE seguridad_demo.ejemplo_seguridad TO `grupo-aad`;"
      ]
    },
    {
      "cell_type": "markdown",
      "metadata": {},
      "source": [
        "### 4. Integrar con Azure Key Vault"
      ]
    },
    {
      "cell_type": "code",
      "execution_count": null,
      "metadata": {},
      "outputs": [],
      "source": [
        "dbutils.secrets.createScope(\n",
        "    scopeName=\"kv-seguridad\", \n",
        "    scopeBackendType=\"AzureKeyVault\", \n",
        "    backendAzureKeyVault={\n",
        "        \"resourceId\": \"<resource-id>\", \n",
        "        \"dnsName\": \"<dns-name>\"\n",
        "    }\n",
        ")"
      ]
    },
    {
      "cell_type": "code",
      "execution_count": null,
      "metadata": {},
      "outputs": [],
      "source": [
        "dbutils.secrets.get(scope=\"kv-seguridad\", key=\"db_password\")"
      ]
    },
    {
      "cell_type": "markdown",
      "metadata": {},
      "source": [
        "### 5. Habilitar logs de auditor\u00eda en Azure Monitor\n",
        "- Aseg\u00farate de tener conectados los recursos de Databricks a Log Analytics.\n",
        "- Revisa los logs desde el portal o con la siguiente consulta:"
      ]
    },
    {
      "cell_type": "code",
      "execution_count": null,
      "metadata": {},
      "outputs": [],
      "source": [
        "DatabricksAuditLogs  \n",
        "| where actionName_s == \"createTable\""
      ]
    },
    {
      "cell_type": "markdown",
      "metadata": {},
      "source": [
        "## \u2705 Validaci\u00f3n\n",
        "- Confirma que los permisos funcionan correctamente.\n",
        "- Verifica acceso a secretos desde Databricks.\n",
        "- Asegura la visibilidad de logs en Azure Monitor.\n"
      ]
    },
    {
      "cell_type": "markdown",
      "metadata": {},
      "source": [
        "## \ud83d\udccc Notas\n",
        "- Algunas configuraciones pueden tardar unos minutos.\n",
        "- Aseg\u00farate de tener permisos administrativos en Azure y Databricks.\n"
      ]
    }
  ],
  "metadata": {
    "kernelspec": {
      "display_name": "Python 3",
      "language": "python",
      "name": "python3"
    },
    "language_info": {
      "name": "python",
      "version": "3.x"
    }
  },
  "nbformat": 4,
  "nbformat_minor": 5
}