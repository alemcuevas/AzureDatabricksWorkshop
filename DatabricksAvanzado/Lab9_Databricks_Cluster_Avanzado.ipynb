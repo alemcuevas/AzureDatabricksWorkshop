{
 "cells": [
  {
   "cell_type": "markdown",
   "metadata": {
    "application/vnd.databricks.v1+cell": {
     "cellMetadata": {},
     "inputWidgets": {},
     "nuid": "4ce5f080-8797-4ba9-aedd-7486b70f95c6",
     "showTitle": false,
     "tableResultSettingsMap": {},
     "title": ""
    }
   },
   "source": [
    "# 🧪 Laboratorio: Opciones Avanzadas en Azure Databricks\n",
    "\n",
    "## 🎯 Objetivo\n",
    "\n",
    "Explorar y aplicar características avanzadas de Azure Databricks que pueden ejecutarse en un cluster básico (Standard o Single Node). Este laboratorio incluye configuraciones, ajustes de rendimiento, monitoreo y uso de caché de datos."
   ]
  },
  {
   "cell_type": "markdown",
   "metadata": {
    "application/vnd.databricks.v1+cell": {
     "cellMetadata": {},
     "inputWidgets": {},
     "nuid": "97fc10dc-5473-454d-86c2-03f59f91551f",
     "showTitle": false,
     "tableResultSettingsMap": {},
     "title": ""
    }
   },
   "source": [
    "## 🧠 Conceptos Clave\n",
    "\n",
    "- **Configuración dinámica de Spark (spark.conf)**\n",
    "- **Caché de datos en memoria (`cache()` y `persist()`)**\n",
    "- **Uso del plan de ejecución (`explain()`)**\n",
    "- **Monitoreo desde Spark UI**\n",
    "- **Auto Broadcast Join Threshold**\n",
    "- **Modo local y modo cluster**"
   ]
  },
  {
   "cell_type": "code",
   "execution_count": 0,
   "metadata": {
    "application/vnd.databricks.v1+cell": {
     "cellMetadata": {
      "byteLimit": 2048000,
      "rowLimit": 10000
     },
     "inputWidgets": {},
     "nuid": "a0f03f21-61a7-42a6-91ad-0b971963b9b9",
     "showTitle": false,
     "tableResultSettingsMap": {},
     "title": ""
    }
   },
   "outputs": [],
   "source": [
    "# Crear un DataFrame de prueba\n",
    "from pyspark.sql.functions import rand\n",
    "df = spark.range(0, 10_000_000).withColumn(\"random\", rand())\n",
    "df.printSchema()"
   ]
  },
  {
   "cell_type": "code",
   "execution_count": 0,
   "metadata": {
    "application/vnd.databricks.v1+cell": {
     "cellMetadata": {
      "byteLimit": 2048000,
      "rowLimit": 10000
     },
     "inputWidgets": {},
     "nuid": "4285dc55-a4be-47c5-adeb-b3bc0fa4f753",
     "showTitle": false,
     "tableResultSettingsMap": {},
     "title": ""
    }
   },
   "outputs": [],
   "source": [
    "# Uso de caché y persistencia\n",
    "df.cache()\n",
    "df.count()  # Forzar carga y almacenamiento en memoria"
   ]
  },
  {
   "cell_type": "code",
   "execution_count": 0,
   "metadata": {
    "application/vnd.databricks.v1+cell": {
     "cellMetadata": {
      "byteLimit": 2048000,
      "rowLimit": 10000
     },
     "inputWidgets": {},
     "nuid": "32aba5ac-e308-4919-ac03-52b9595ba3ce",
     "showTitle": false,
     "tableResultSettingsMap": {},
     "title": ""
    }
   },
   "outputs": [],
   "source": [
    "# Ver plan de ejecución físico y lógico\n",
    "df.filter(\"random > 0.5\").explain(True)"
   ]
  },
  {
   "cell_type": "code",
   "execution_count": 0,
   "metadata": {
    "application/vnd.databricks.v1+cell": {
     "cellMetadata": {
      "byteLimit": 2048000,
      "rowLimit": 10000
     },
     "inputWidgets": {},
     "nuid": "be3ef532-0d85-4260-9763-1664f9799f54",
     "showTitle": false,
     "tableResultSettingsMap": {},
     "title": ""
    }
   },
   "outputs": [],
   "source": [
    "# Ajustar configuración Spark para desactivar broadcast join\n",
    "spark.conf.set(\"spark.sql.autoBroadcastJoinThreshold\", -1)"
   ]
  },
  {
   "cell_type": "code",
   "execution_count": 0,
   "metadata": {
    "application/vnd.databricks.v1+cell": {
     "cellMetadata": {
      "byteLimit": 2048000,
      "rowLimit": 10000
     },
     "inputWidgets": {},
     "nuid": "b6f18167-2f36-4b6b-adba-bdb03c66cb95",
     "showTitle": false,
     "tableResultSettingsMap": {},
     "title": ""
    }
   },
   "outputs": [],
   "source": [
    "# Activar Adaptive Query Execution (AQE)\n",
    "spark.conf.set(\"spark.sql.adaptive.enabled\", True)"
   ]
  }
 ],
 "metadata": {
  "application/vnd.databricks.v1+notebook": {
   "computePreferences": null,
   "dashboards": [],
   "environmentMetadata": null,
   "inputWidgetPreferences": null,
   "language": "python",
   "notebookMetadata": {
    "pythonIndentUnit": 4
   },
   "notebookName": "Lab9_Databricks_Cluster_Avanzado",
   "widgets": {}
  },
  "kernelspec": {
   "display_name": "Python 3",
   "language": "python",
   "name": "python3"
  },
  "language_info": {
   "name": "python"
  }
 },
 "nbformat": 4,
 "nbformat_minor": 0
}
