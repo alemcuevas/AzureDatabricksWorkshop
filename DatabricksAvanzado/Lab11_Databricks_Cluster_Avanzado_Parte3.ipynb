{
 "cells": [
  {
   "cell_type": "markdown",
   "metadata": {
    "application/vnd.databricks.v1+cell": {
     "cellMetadata": {
      "byteLimit": 2048000,
      "rowLimit": 10000
     },
     "inputWidgets": {},
     "nuid": "b59b63e3-fe38-47ff-9333-873e842a6ccb",
     "showTitle": false,
     "tableResultSettingsMap": {},
     "title": ""
    }
   },
   "source": [
    "# 🧪 Laboratorio Avanzado: Técnicas de Optimización en Azure Databricks\n",
    "\n",
    "## 🎯 Objetivo\n",
    "Aplicar un conjunto de técnicas expertas de rendimiento en Spark y Delta Lake sobre un flujo de datos de ventas, usando un cluster sencillo con configuraciones avanzadas."
   ]
  },
  {
   "cell_type": "markdown",
   "metadata": {
    "application/vnd.databricks.v1+cell": {
     "cellMetadata": {
      "byteLimit": 2048000,
      "rowLimit": 10000
     },
     "inputWidgets": {},
     "nuid": "f56bff44-162c-48f9-b36d-6bbadeca347d",
     "showTitle": false,
     "tableResultSettingsMap": {},
     "title": ""
    }
   },
   "source": [
    "## 🧠 Técnicas cubiertas\n",
    "- Z-Ordering (`ZORDER BY`)\n",
    "- Optimize con bin packing\n",
    "- Bloom filters para joins\n",
    "- Dynamic Partition Pruning\n",
    "- AQE + Broadcast Joins\n",
    "- Column pruning\n",
    "- Cost-based optimization\n"
   ]
  },
  {
   "cell_type": "code",
   "execution_count": 0,
   "metadata": {
    "application/vnd.databricks.v1+cell": {
     "cellMetadata": {
      "byteLimit": 2048000,
      "rowLimit": 10000
     },
     "inputWidgets": {},
     "nuid": "bbcbd76b-d93c-45f1-b66b-fbee9a0031bb",
     "showTitle": false,
     "tableResultSettingsMap": {},
     "title": ""
    }
   },
   "outputs": [],
   "source": [
    "# Simulación de datos de ventas\n",
    "from pyspark.sql.functions import expr, rand, col\n",
    "df_sales = spark.range(0, 10_000_000).withColumn(\"store_id\", (col(\"id\") % 100)) \\\n",
    "    .withColumn(\"product_id\", (col(\"id\") % 1000)) \\\n",
    "    .withColumn(\"amount\", rand() * 100) \\\n",
    "    .withColumn(\"region\", expr(\"CASE WHEN store_id % 2 = 0 THEN 'North' ELSE 'South' END\"))\n",
    "\n",
    "df_sales.write.format(\"delta\").mode(\"overwrite\").partitionBy(\"region\").save(\"/mnt/optimizacion/sales\")"
   ]
  },
  {
   "cell_type": "markdown",
   "metadata": {
    "application/vnd.databricks.v1+cell": {
     "cellMetadata": {
      "byteLimit": 2048000,
      "rowLimit": 10000
     },
     "inputWidgets": {},
     "nuid": "a0ee4ba5-998f-43c1-8212-041138581f7f",
     "showTitle": false,
     "tableResultSettingsMap": {},
     "title": ""
    }
   },
   "source": [
    "## 🔁 OPTIMIZE y ZORDER para filtros altamente selectivos"
   ]
  },
  {
   "cell_type": "code",
   "execution_count": 0,
   "metadata": {
    "application/vnd.databricks.v1+cell": {
     "cellMetadata": {
      "byteLimit": 2048000,
      "rowLimit": 10000
     },
     "inputWidgets": {},
     "nuid": "77d130a8-2dfa-4236-90c8-51a994924c53",
     "showTitle": false,
     "tableResultSettingsMap": {},
     "title": ""
    }
   },
   "outputs": [],
   "source": [
    "spark.sql(\"OPTIMIZE delta.`/mnt/optimizacion/sales` ZORDER BY (store_id, product_id)\")"
   ]
  },
  {
   "cell_type": "markdown",
   "metadata": {
    "application/vnd.databricks.v1+cell": {
     "cellMetadata": {
      "byteLimit": 2048000,
      "rowLimit": 10000
     },
     "inputWidgets": {},
     "nuid": "1f5c62dd-493a-4da2-acfb-55e2edec7174",
     "showTitle": false,
     "tableResultSettingsMap": {},
     "title": ""
    }
   },
   "source": [
    "## 🧪 Dynamic Partition Pruning + Column Pruning\n",
    "Habilita DPP y accede solo a columnas necesarias."
   ]
  },
  {
   "cell_type": "code",
   "execution_count": 0,
   "metadata": {
    "application/vnd.databricks.v1+cell": {
     "cellMetadata": {
      "byteLimit": 2048000,
      "rowLimit": 10000
     },
     "inputWidgets": {},
     "nuid": "a7bb09b3-0831-4500-ad28-39f2854ab33c",
     "showTitle": false,
     "tableResultSettingsMap": {},
     "title": ""
    }
   },
   "outputs": [],
   "source": [
    "spark.conf.set(\"spark.sql.optimizer.dynamicPartitionPruning\", True)\n",
    "df_filtered = spark.read.format(\"delta\").load(\"/mnt/optimizacion/sales\") \\\n",
    "    .filter(\"region = 'North' and store_id = 42\") \\\n",
    "    .select(\"product_id\", \"store_id\", \"amount\")\n",
    "df_filtered.show(5)"
   ]
  },
  {
   "cell_type": "markdown",
   "metadata": {
    "application/vnd.databricks.v1+cell": {
     "cellMetadata": {
      "byteLimit": 2048000,
      "rowLimit": 10000
     },
     "inputWidgets": {},
     "nuid": "6ef77d4c-f7c7-42b9-bca8-8aa133d9103d",
     "showTitle": false,
     "tableResultSettingsMap": {},
     "title": ""
    }
   },
   "source": [
    "## 📊 AQE + Join Broadcast Auto Tuning\n",
    "Combina AQE y broadcast inteligente con un join de productos."
   ]
  },
  {
   "cell_type": "code",
   "execution_count": 0,
   "metadata": {
    "application/vnd.databricks.v1+cell": {
     "cellMetadata": {
      "byteLimit": 2048000,
      "rowLimit": 10000
     },
     "inputWidgets": {},
     "nuid": "7c85dbfa-5948-4a31-901e-0692dcf7d732",
     "showTitle": false,
     "tableResultSettingsMap": {},
     "title": ""
    }
   },
   "outputs": [],
   "source": [
    "spark.conf.set(\"spark.sql.adaptive.enabled\", True)\n",
    "spark.conf.set(\"spark.sql.autoBroadcastJoinThreshold\", 10 * 1024 * 1024)  # 10MB\n",
    "\n",
    "df_products = spark.range(0, 1000).withColumnRenamed(\"id\", \"product_id\")\n",
    "\n",
    "df_joined = df_filtered.join(df_products, \"product_id\", \"inner\")\n",
    "df_joined.explain(True)"
   ]
  },
  {
   "cell_type": "markdown",
   "metadata": {
    "application/vnd.databricks.v1+cell": {
     "cellMetadata": {
      "byteLimit": 2048000,
      "rowLimit": 10000
     },
     "inputWidgets": {},
     "nuid": "94545ee3-4362-489d-8a1c-93c703da6792",
     "showTitle": false,
     "tableResultSettingsMap": {},
     "title": ""
    }
   },
   "source": [
    "## ✅ Validación\n",
    "- Revisa Spark UI: ¿se usó ZORDER?\n",
    "- ¿Se aplicó Dynamic Partition Pruning?\n",
    "- ¿Se ejecutó el join con broadcast?\n",
    "- ¿Se redujo el número de archivos tras `OPTIMIZE`?\n",
    "\n",
    "Este laboratorio pone en práctica técnicas reales para producción en escenarios de gran volumen sin necesidad de escalar recursos."
   ]
  }
 ],
 "metadata": {
  "application/vnd.databricks.v1+notebook": {
   "computePreferences": null,
   "dashboards": [],
   "environmentMetadata": null,
   "inputWidgetPreferences": null,
   "language": "python",
   "notebookMetadata": {
    "pythonIndentUnit": 4
   },
   "notebookName": "Lab11_Databricks_Cluster_Avanzado_Parte3",
   "widgets": {}
  },
  "kernelspec": {
   "display_name": "Python 3",
   "language": "python",
   "name": "python3"
  },
  "language_info": {
   "name": "python"
  }
 },
 "nbformat": 4,
 "nbformat_minor": 0
}
