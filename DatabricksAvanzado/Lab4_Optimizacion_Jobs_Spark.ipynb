{
  "cells": [
    {
      "cell_type": "markdown",
      "metadata": {},
      "source": [
        "# \ud83e\uddea Laboratorio 4: An\u00e1lisis y Optimizaci\u00f3n de Jobs de Spark\n",
        "\n",
        "## \ud83c\udfaf Objetivo\n",
        "\n",
        "Analizar cuellos de botella en jobs de Spark y aplicar t\u00e9cnicas de optimizaci\u00f3n como broadcast join, manejo de skew y ajustes de configuraci\u00f3n para mejorar el rendimiento."
      ]
    },
    {
      "cell_type": "markdown",
      "metadata": {},
      "source": [
        "## \u2139\ufe0f Introducci\u00f3n\n",
        "\n",
        "Spark es una plataforma distribuida de procesamiento de datos que puede escalar a grandes vol\u00famenes, pero su rendimiento depende de c\u00f3mo se estructuran y configuran los jobs.\n",
        "Este laboratorio te ense\u00f1a a diagnosticar y mejorar el rendimiento usando herramientas como Spark UI, t\u00e9cnicas como broadcast joins, y ajustes finos del motor de ejecuci\u00f3n."
      ]
    },
    {
      "cell_type": "markdown",
      "metadata": {},
      "source": [
        "## \ud83e\udde0 Conceptos Clave\n",
        "\n",
        "**Spark UI**\n",
        "Herramienta visual que permite inspeccionar el plan de ejecuci\u00f3n de los jobs, detectar etapas lentas, skew, y recursos utilizados.\n",
        "[\ud83d\udcd8 Ver documentaci\u00f3n](https://spark.apache.org/docs/latest/web-ui.html)\n",
        "\n",
        "**Broadcast Join**\n",
        "Optimizaci\u00f3n que replica una tabla peque\u00f1a a todos los nodos para evitar shuffles.\n",
        "\n",
        "**Skew Handling**\n",
        "Estrategias para evitar cuellos de botella cuando los datos no est\u00e1n balanceados.\n",
        "\n",
        "**Adaptive Query Execution (AQE)**\n",
        "Funcionalidad que permite a Spark ajustar el plan de ejecuci\u00f3n en tiempo real con base en estad\u00edsticas.\n",
        "[\ud83d\udcd8 Ver documentaci\u00f3n](https://spark.apache.org/docs/latest/sql-performance-tuning.html#adaptive-query-execution)"
      ]
    },
    {
      "cell_type": "markdown",
      "metadata": {},
      "source": [
        "## \ud83d\udee0\ufe0f Pasos del laboratorio\n",
        "\n",
        "### 1. Cargar dos datasets para hacer un join"
      ]
    },
    {
      "cell_type": "code",
      "execution_count": null,
      "metadata": {},
      "outputs": [],
      "source": [
        "clientes = spark.read.option(\"header\", True).csv(\"/databricks-datasets/retail-org/customers/\")\n",
        "ventas = spark.read.option(\"header\", True).csv(\"/databricks-datasets/retail-org/sales/\")"
      ]
    },
    {
      "cell_type": "markdown",
      "metadata": {},
      "source": [
        "### 2. Realizar un join est\u00e1ndar (no optimizado)"
      ]
    },
    {
      "cell_type": "code",
      "execution_count": null,
      "metadata": {},
      "outputs": [],
      "source": [
        "join_default = ventas.join(clientes, \"customer_id\")\n",
        "join_default.write.format(\"noop\").mode(\"overwrite\").save()  # Trigger job sin escribir datos reales"
      ]
    },
    {
      "cell_type": "markdown",
      "metadata": {},
      "source": [
        "### 3. Habilitar AQE y usar broadcast join manual"
      ]
    },
    {
      "cell_type": "code",
      "execution_count": null,
      "metadata": {},
      "outputs": [],
      "source": [
        "spark.conf.set(\"spark.sql.adaptive.enabled\", \"true\")\n",
        "from pyspark.sql.functions import broadcast\n",
        "\n",
        "join_optimizado = ventas.join(broadcast(clientes), \"customer_id\")\n",
        "join_optimizado.write.format(\"noop\").mode(\"overwrite\").save()"
      ]
    },
    {
      "cell_type": "markdown",
      "metadata": {},
      "source": [
        "### 4. Comparar ejecuci\u00f3n en Spark UI\n",
        "- Ve a la pesta\u00f1a \"Spark UI\" desde la interfaz de Databricks.\n",
        "- Compara duraci\u00f3n, stages y n\u00famero de shuffles entre los dos jobs."
      ]
    },
    {
      "cell_type": "markdown",
      "metadata": {},
      "source": [
        "## \u2705 Validaci\u00f3n\n",
        "- Identifica mejoras en tiempo de ejecuci\u00f3n y n\u00famero de etapas.\n",
        "- Confirma que el plan f\u00edsico usa `BroadcastHashJoin`.\n",
        "- Verifica que AQE est\u00e9 activo si habilitaste adaptative query execution.\n"
      ]
    }
  ],
  "metadata": {
    "kernelspec": {
      "display_name": "Python 3",
      "language": "python",
      "name": "python3"
    },
    "language_info": {
      "name": "python",
      "version": "3.x"
    }
  },
  "nbformat": 4,
  "nbformat_minor": 5
}