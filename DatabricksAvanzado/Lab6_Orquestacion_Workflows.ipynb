{
  "cells": [
    {
      "cell_type": "markdown",
      "metadata": {},
      "source": [
        "# \ud83e\uddea Laboratorio 6: Orquestaci\u00f3n de un Flujo de Datos Completo\n",
        "\n",
        "## \ud83c\udfaf Objetivo\n",
        "\n",
        "Dise\u00f1ar y ejecutar un workflow multi-etapa en Azure Databricks usando Databricks Workflows y DBT, incluyendo alertas y recuperaci\u00f3n autom\u00e1tica."
      ]
    },
    {
      "cell_type": "markdown",
      "metadata": {},
      "source": [
        "## \u2139\ufe0f Introducci\u00f3n\n",
        "\n",
        "Orquestar tareas complejas en pipelines de datos requiere control sobre dependencias, manejo de errores y monitoreo.\n",
        "Databricks Workflows permite definir flujos de tareas tipo DAG para manejar pipelines de ETL, entrenamiento de modelos, validaciones y m\u00e1s.\n",
        "Tambi\u00e9n se puede integrar con DBT para la transformaci\u00f3n de datos en Lakehouse."
      ]
    },
    {
      "cell_type": "markdown",
      "metadata": {},
      "source": [
        "## \ud83e\udde0 Conceptos Clave\n",
        "\n",
        "**Databricks Workflows**\n",
        "Motor nativo de orquestaci\u00f3n de tareas que permite configurar y ejecutar pipelines definidos como flujos de notebooks, scripts o tareas de ML.\n",
        "[\ud83d\udcd8 Ver documentaci\u00f3n](https://learn.microsoft.com/en-us/azure/databricks/workflows/)\n",
        "\n",
        "**DBT (Data Build Tool)**\n",
        "Framework de transformaci\u00f3n de datos que permite definir modelos SQL versionados y testeados.\n",
        "[\ud83d\udcd8 Ver documentaci\u00f3n](https://docs.getdbt.com/)\n",
        "\n",
        "**Alertas y recuperaci\u00f3n**\n",
        "Workflows permite configurar alertas por email y definir comportamiento ante fallos para cada tarea del flujo."
      ]
    },
    {
      "cell_type": "markdown",
      "metadata": {},
      "source": [
        "## \ud83d\udee0\ufe0f Pasos del laboratorio\n",
        "\n",
        "### 1. Crear notebooks separados para cada tarea del flujo:\n",
        "- `ingestion_notebook`: lee y guarda datos crudos (bronze).\n",
        "- `cleaning_notebook`: transforma datos y guarda en silver.\n",
        "- `aggregation_notebook`: agrega y guarda datos en gold.\n",
        "- `validation_notebook`: ejecuta validaciones de calidad de datos.\n",
        "- `alerting_notebook`: env\u00eda alerta o resumen final.\n",
        "\n",
        "Puedes usar c\u00f3digo similar al del Lab 3 para las tareas de ingesta, limpieza y agregaci\u00f3n."
      ]
    },
    {
      "cell_type": "markdown",
      "metadata": {},
      "source": [
        "### 2. Crear un workflow en Databricks\n",
        "- Accede a la secci\u00f3n **Workflows** > **Create Job**.\n",
        "- Agrega cada notebook como una tarea.\n",
        "- Define dependencias entre tareas:\n",
        "  - `cleaning_notebook` depende de `ingestion_notebook`\n",
        "  - `aggregation_notebook` depende de `cleaning_notebook`\n",
        "  - `validation_notebook` depende de `aggregation_notebook`\n",
        "  - `alerting_notebook` depende de todas las anteriores"
      ]
    },
    {
      "cell_type": "markdown",
      "metadata": {},
      "source": [
        "### 3. Configurar alertas y recuperaci\u00f3n autom\u00e1tica\n",
        "- En la configuraci\u00f3n de cada tarea, activa **email alerts** para estado de fallo o \u00e9xito.\n",
        "- Define pol\u00edtica de reintentos (e.g., 3 intentos con espera de 10 minutos).\n",
        "- Activa logs de ejecuci\u00f3n para cada tarea."
      ]
    },
    {
      "cell_type": "markdown",
      "metadata": {},
      "source": [
        "### 4. (Opcional) Integraci\u00f3n con DBT\n",
        "- Si usas DBT en Databricks, crea un proyecto con modelos transformacionales.\n",
        "- Ejecuta `dbt run` como tarea adicional en el workflow entre silver y gold.\n",
        "- Tambi\u00e9n puedes agregar `dbt test` como validaci\u00f3n antes de alertar."
      ]
    },
    {
      "cell_type": "markdown",
      "metadata": {},
      "source": [
        "## \u2705 Validaci\u00f3n\n",
        "- Ejecuta el workflow completo desde la interfaz.\n",
        "- Verifica la correcta secuencia de ejecuci\u00f3n.\n",
        "- Asegura que se hayan generado logs, y que el resumen final incluya resultados.\n",
        "- Simula fallos para validar el comportamiento de recuperaci\u00f3n autom\u00e1tica."
      ]
    }
  ],
  "metadata": {
    "kernelspec": {
      "display_name": "Python 3",
      "language": "python",
      "name": "python3"
    },
    "language_info": {
      "name": "python",
      "version": "3.x"
    }
  },
  "nbformat": 4,
  "nbformat_minor": 5
}