{
 "cells": [
  {
   "cell_type": "markdown",
   "metadata": {
    "application/vnd.databricks.v1+cell": {
     "cellMetadata": {},
     "inputWidgets": {},
     "nuid": "cce394eb-b011-433b-977d-2775305f7adf",
     "showTitle": false,
     "tableResultSettingsMap": {},
     "title": ""
    }
   },
   "source": [
    "# 🧪 Laboratorio 5: Creación de un Pipeline de MLOps en Databricks\n",
    "\n",
    "## 🎯 Objetivo\n",
    "\n",
    "Crear un pipeline de MLOps que incluya entrenamiento, registro y despliegue automatizado de un modelo usando MLflow, Databricks Repos y Azure DevOps."
   ]
  },
  {
   "cell_type": "markdown",
   "metadata": {
    "application/vnd.databricks.v1+cell": {
     "cellMetadata": {},
     "inputWidgets": {},
     "nuid": "7492ed24-4744-460b-94ef-d71f9b0e23cc",
     "showTitle": false,
     "tableResultSettingsMap": {},
     "title": ""
    }
   },
   "source": [
    "## ℹ️ Introducción\n",
    "\n",
    "MLOps combina Machine Learning con prácticas de DevOps para asegurar versionado, trazabilidad y automatización en modelos de ML.\n",
    "En este laboratorio usaremos MLflow para manejar el ciclo de vida del modelo y una integración básica con DevOps para automatizar el despliegue."
   ]
  },
  {
   "cell_type": "markdown",
   "metadata": {
    "application/vnd.databricks.v1+cell": {
     "cellMetadata": {},
     "inputWidgets": {},
     "nuid": "8f76f84c-ee56-4d50-8b1d-5e3b462bfc05",
     "showTitle": false,
     "tableResultSettingsMap": {},
     "title": ""
    }
   },
   "source": [
    "## 🧠 Conceptos Clave\n",
    "\n",
    "**MLflow**\n",
    "Plataforma open-source integrada en Databricks para gestión de experimentos, modelos y despliegue.\n",
    "[📘 Ver documentación](https://mlflow.org/docs/latest/index.html)\n",
    "\n",
    "**Databricks Repos**\n",
    "Funcionalidad para conectar repositorios Git a Databricks y sincronizar notebooks o scripts.\n",
    "[📘 Ver documentación](https://learn.microsoft.com/en-us/azure/databricks/repos/)\n",
    "\n",
    "**Azure DevOps**\n",
    "Plataforma de CI/CD y control de versiones. En este laboratorio simularemos una pipeline de despliegue desde el lado de Databricks.\n",
    "[📘 Ver documentación](https://learn.microsoft.com/en-us/azure/devops/?view=azure-devops)"
   ]
  },
  {
   "cell_type": "markdown",
   "metadata": {
    "application/vnd.databricks.v1+cell": {
     "cellMetadata": {},
     "inputWidgets": {},
     "nuid": "d02f88f9-c6da-4f22-8876-b24cc3b6d0b9",
     "showTitle": false,
     "tableResultSettingsMap": {},
     "title": ""
    }
   },
   "source": [
    "## 🛠️ Pasos del laboratorio\n",
    "\n",
    "### 1. Preparar datos de entrenamiento (dataset Iris)"
   ]
  },
  {
   "cell_type": "code",
   "execution_count": 0,
   "metadata": {
    "application/vnd.databricks.v1+cell": {
     "cellMetadata": {
      "byteLimit": 2048000,
      "rowLimit": 10000
     },
     "inputWidgets": {},
     "nuid": "569201d3-6ecc-465e-9997-b495ae414daf",
     "showTitle": false,
     "tableResultSettingsMap": {},
     "title": ""
    }
   },
   "outputs": [],
   "source": [
    "from sklearn.datasets import load_iris\n",
    "import pandas as pd\n",
    "\n",
    "# Cargar datos Iris\n",
    "iris = load_iris()\n",
    "df = pd.DataFrame(iris.data, columns=iris.feature_names)\n",
    "df['target'] = iris.target\n",
    "\n",
    "df.head()\n"
   ]
  },
  {
   "cell_type": "markdown",
   "metadata": {
    "application/vnd.databricks.v1+cell": {
     "cellMetadata": {},
     "inputWidgets": {},
     "nuid": "3da34a69-adeb-4159-9e23-258957f88c3a",
     "showTitle": false,
     "tableResultSettingsMap": {},
     "title": ""
    }
   },
   "source": [
    "### 2. Entrenar modelo con MLflow tracking"
   ]
  },
  {
   "cell_type": "code",
   "execution_count": 0,
   "metadata": {
    "application/vnd.databricks.v1+cell": {
     "cellMetadata": {
      "byteLimit": 2048000,
      "rowLimit": 10000
     },
     "inputWidgets": {},
     "nuid": "9b248f35-e93c-4e47-8357-8f33a888304b",
     "showTitle": false,
     "tableResultSettingsMap": {},
     "title": ""
    }
   },
   "outputs": [],
   "source": [
    "mlflow.end_run()"
   ]
  },
  {
   "cell_type": "code",
   "execution_count": 0,
   "metadata": {
    "application/vnd.databricks.v1+cell": {
     "cellMetadata": {
      "byteLimit": 2048000,
      "rowLimit": 10000
     },
     "inputWidgets": {},
     "nuid": "fe323fe9-c231-4008-a166-c9814c02200c",
     "showTitle": false,
     "tableResultSettingsMap": {},
     "title": ""
    }
   },
   "outputs": [],
   "source": [
    "import mlflow\n",
    "import mlflow.sklearn\n",
    "from sklearn.model_selection import train_test_split\n",
    "from sklearn.ensemble import RandomForestClassifier\n",
    "from sklearn.metrics import accuracy_score\n",
    "\n",
    "# Dividir los datos\n",
    "X_train, X_test, y_train, y_test = train_test_split(\n",
    "    df.drop(\"target\", axis=1),\n",
    "    df[\"target\"],\n",
    "    test_size=0.2,\n",
    "    random_state=42\n",
    ")\n",
    "\n",
    "# Iniciar un experimento de MLflow\n",
    "mlflow.set_experiment(\"/Users/alejandra.martinez@microsoft.com/iris_experiment\")\n",
    "\n",
    "with mlflow.start_run():\n",
    "    clf = RandomForestClassifier(n_estimators=100, max_depth=5, random_state=42)\n",
    "    clf.fit(X_train, y_train)\n",
    "    predictions = clf.predict(X_test)\n",
    "    acc = accuracy_score(y_test, predictions)\n",
    "\n",
    "    # Registrar parámetros y métricas\n",
    "    mlflow.log_param(\"n_estimators\", 100)\n",
    "    mlflow.log_param(\"max_depth\", 5)\n",
    "    mlflow.log_metric(\"accuracy\", acc)\n",
    "\n",
    "    # Registrar el modelo\n",
    "    mlflow.sklearn.log_model(clf, \"modelo_rf\")\n",
    "\n",
    "    print(f\"Accuracy: {acc}\")\n"
   ]
  },
  {
   "cell_type": "markdown",
   "metadata": {
    "application/vnd.databricks.v1+cell": {
     "cellMetadata": {},
     "inputWidgets": {},
     "nuid": "414be98e-551e-43eb-b6dd-d61911539534",
     "showTitle": false,
     "tableResultSettingsMap": {},
     "title": ""
    }
   },
   "source": [
    "### 3. Registrar el modelo entrenado en MLflow Registry"
   ]
  },
  {
   "cell_type": "markdown",
   "metadata": {
    "application/vnd.databricks.v1+cell": {
     "cellMetadata": {},
     "inputWidgets": {},
     "nuid": "acef0ac8-7b9a-428e-a702-000641cb2de1",
     "showTitle": false,
     "tableResultSettingsMap": {},
     "title": ""
    }
   },
   "source": [
    "**4.1 Verifica el experimento y selecciona el run**\n",
    "\n",
    "En el menú lateral de Databricks, ve a Experiments.\n",
    "\n",
    "Busca el experimento que creaste (iris_experiment).\n",
    "\n",
    "Haz clic sobre él para ver la lista de ejecuciones (runs).\n",
    "\n",
    "Selecciona el run que contiene tu modelo entrenado.\n",
    "\n",
    "En la pestaña Artifacts, haz clic en modelo_rf y luego en Register Model.\n",
    "\n",
    "**4.2 Registra el modelo**\n",
    "\n",
    "Al hacer clic en Register Model, elige:\n",
    "\n",
    "Model: Crea uno nuevo llamado IrisClassifier.\n",
    "\n",
    "Haz clic en Register."
   ]
  },
  {
   "cell_type": "markdown",
   "metadata": {
    "application/vnd.databricks.v1+cell": {
     "cellMetadata": {},
     "inputWidgets": {},
     "nuid": "faf2125c-0468-4eef-bd84-91c15fca187c",
     "showTitle": false,
     "tableResultSettingsMap": {},
     "title": ""
    }
   },
   "source": [
    "### 4. Desplegar y consumir el modelo\n",
    "\n",
    "- En la UI de MLflow, selecciona el modelo registrado y habilita el endpoint de inferencia en tiempo real."
   ]
  },
  {
   "cell_type": "code",
   "execution_count": 0,
   "metadata": {
    "application/vnd.databricks.v1+cell": {
     "cellMetadata": {
      "byteLimit": 2048000,
      "rowLimit": 10000
     },
     "inputWidgets": {},
     "nuid": "e55999ac-f33e-4e27-8c54-5de58cd219f7",
     "showTitle": false,
     "tableResultSettingsMap": {},
     "title": ""
    }
   },
   "outputs": [],
   "source": [
    "import mlflow.pyfunc\n",
    "\n",
    "# Ruta al modelo en el registry\n",
    "model_name = \"IrisClassifier\"\n",
    "model_stage = \"Staging\"  # o \"Production\" según tu flujo\n",
    "\n",
    "# Cargar el modelo desde el registry\n",
    "modelo = mlflow.pyfunc.load_model(model_uri=f\"models:/{model_name}/{model_stage}\")\n",
    "\n",
    "# Crear un nuevo DataFrame de prueba\n",
    "df_test = df.drop(\"target\", axis=1).iloc[:5]\n",
    "predicciones = modelo.predict(df_test)\n",
    "predicciones\n"
   ]
  },
  {
   "cell_type": "markdown",
   "metadata": {
    "application/vnd.databricks.v1+cell": {
     "cellMetadata": {},
     "inputWidgets": {},
     "nuid": "4a681a32-2108-43a0-9421-e709590cc443",
     "showTitle": false,
     "tableResultSettingsMap": {},
     "title": ""
    }
   },
   "source": [
    "**5.2 Validar el uso del modelo en producción**\n",
    "\n",
    "Puedes usar esta inferencia en cualquier pipeline, dashboard o endpoint REST si activas Model Serving.\n",
    "\n",
    "Para activar Model Serving:\n",
    "\n",
    "Ve a Models > IrisClassifier.\n",
    "\n",
    "Haz clic en Serve this model y sigue los pasos para habilitar un endpoint."
   ]
  },
  {
   "cell_type": "markdown",
   "metadata": {
    "application/vnd.databricks.v1+cell": {
     "cellMetadata": {},
     "inputWidgets": {},
     "nuid": "8109e06e-496d-4727-b712-8b7d7d0a9e73",
     "showTitle": false,
     "tableResultSettingsMap": {},
     "title": ""
    }
   },
   "source": [
    "**6.1 Crear y conectar un repositorio**\n",
    "\n",
    "En GitHub:\n",
    "\n",
    "Crea un nuevo repositorio:\n",
    "\n",
    "Nombre: mlops-pipeline-iris\n",
    "\n",
    "Inicialízalo con un README.md y .gitignore (Python)"
   ]
  },
  {
   "cell_type": "markdown",
   "metadata": {
    "application/vnd.databricks.v1+cell": {
     "cellMetadata": {},
     "inputWidgets": {},
     "nuid": "13909ef2-6219-4065-b2fb-7019d2b198ad",
     "showTitle": false,
     "tableResultSettingsMap": {},
     "title": ""
    }
   },
   "source": [
    "**En Databricks:**\n",
    "\n",
    "Ve al menú lateral > New > More > Git Folder\n",
    "\n",
    "Pega la URL del repositorio de GitHub\n"
   ]
  }
 ],
 "metadata": {
  "application/vnd.databricks.v1+notebook": {
   "computePreferences": null,
   "dashboards": [],
   "environmentMetadata": null,
   "inputWidgetPreferences": null,
   "language": "python",
   "notebookMetadata": {
    "pythonIndentUnit": 4
   },
   "notebookName": "Lab5_MLOps_MLflow_DevOps",
   "widgets": {}
  },
  "kernelspec": {
   "display_name": "Python 3",
   "language": "python",
   "name": "python3"
  },
  "language_info": {
   "name": "python"
  }
 },
 "nbformat": 4,
 "nbformat_minor": 0
}
