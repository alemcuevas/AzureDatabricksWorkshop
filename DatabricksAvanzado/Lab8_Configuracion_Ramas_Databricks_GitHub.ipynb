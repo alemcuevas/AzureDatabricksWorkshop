{
  "cells": [
    {
      "cell_type": "markdown",
      "metadata": {},
      "source": [
        "# \ud83e\uddea Laboratorio: Configuraci\u00f3n de Ramas con Databricks y GitHub\n",
        "\n",
        "## \ud83c\udfaf Objetivo\n",
        "\n",
        "Configurar correctamente el uso de Git en Databricks, conectar un repositorio de GitHub, gestionar ramas y colaborar usando control de versiones directamente en la interfaz de Databricks."
      ]
    },
    {
      "cell_type": "markdown",
      "metadata": {},
      "source": [
        "## \u2139\ufe0f Introducci\u00f3n\n",
        "\n",
        "La integraci\u00f3n de Git con Databricks permite trabajar colaborativamente con control de versiones en notebooks, scripts y flujos de trabajo. Este laboratorio cubre c\u00f3mo vincular un repositorio de GitHub, trabajar con ramas, hacer commits y resolver conflictos desde la plataforma."
      ]
    },
    {
      "cell_type": "markdown",
      "metadata": {},
      "source": [
        "## \ud83e\udde0 Conceptos Clave\n",
        "\n",
        "**Repos en Databricks**\n",
        "Permiten importar y sincronizar c\u00f3digo desde un repositorio Git.\n",
        "[\ud83d\udcd8 Ver documentaci\u00f3n](https://learn.microsoft.com/en-us/azure/databricks/repos/)\n",
        "\n",
        "**Control de versiones**\n",
        "Mediante ramas se pueden trabajar caracter\u00edsticas de forma aislada, mantener entornos de desarrollo separados y llevar un historial claro de cambios.\n",
        "\n",
        "**GitHub Personal Access Token (PAT)**\n",
        "Requiere un token con permisos de lectura/escritura para que Databricks acceda al repositorio.\n",
        "[\ud83d\udcd8 Crear token](https://github.com/settings/tokens)"
      ]
    },
    {
      "cell_type": "markdown",
      "metadata": {},
      "source": [
        "## \ud83d\udee0\ufe0f Pasos del laboratorio\n",
        "\n",
        "### 1. Crear un repositorio en GitHub\n",
        "- Nombre sugerido: `databricks-lab`\n",
        "- Visibilidad: p\u00fablica o privada seg\u00fan preferencia\n",
        "- Inicializa con un `README.md`\n"
      ]
    },
    {
      "cell_type": "markdown",
      "metadata": {},
      "source": [
        "### 2. Generar un Personal Access Token en GitHub\n",
        "- Accede a [GitHub Tokens](https://github.com/settings/tokens)\n",
        "- Genera un token con scopes `repo` y `workflow`\n",
        "- Copia el token (solo se muestra una vez)"
      ]
    },
    {
      "cell_type": "markdown",
      "metadata": {},
      "source": [
        "### 3. Conectar Databricks con GitHub\n",
        "- En Databricks, ve a **Repos** > **Add Repo**\n",
        "- Ingresa la URL de tu repositorio\n",
        "- Introduce tu token como autenticaci\u00f3n\n",
        "- Selecciona la rama principal (`main` o `master`)"
      ]
    },
    {
      "cell_type": "markdown",
      "metadata": {},
      "source": [
        "### 4. Crear una nueva rama desde Databricks\n",
        "- Abre un notebook dentro del repo clonado\n",
        "- Desde el men\u00fa superior, selecciona **Git** > **Create Branch**\n",
        "- Nombre sugerido: `feature-nombre`\n",
        "- Realiza algunos cambios (agrega una celda o modifica contenido)\n",
        "- Haz commit desde el mismo men\u00fa\n"
      ]
    },
    {
      "cell_type": "markdown",
      "metadata": {},
      "source": [
        "### 5. Hacer Pull Request desde GitHub\n",
        "- Navega a tu repositorio en GitHub\n",
        "- Ver\u00e1s la rama `feature-nombre` creada\n",
        "- Haz clic en **Compare & Pull Request**\n",
        "- Describe los cambios y crea el PR\n",
        "- Fusiona los cambios a `main` una vez aprobado\n"
      ]
    },
    {
      "cell_type": "markdown",
      "metadata": {},
      "source": [
        "## \u2705 Validaci\u00f3n\n",
        "- Aseg\u00farate de que tu commit aparece en GitHub\n",
        "- Verifica que los cambios en la rama fueron fusionados correctamente\n",
        "- Desde Databricks, sincroniza el repositorio para ver la \u00faltima versi\u00f3n"
      ]
    }
  ],
  "metadata": {
    "kernelspec": {
      "display_name": "Python 3",
      "language": "python",
      "name": "python3"
    },
    "language_info": {
      "name": "python",
      "version": "3.x"
    }
  },
  "nbformat": 4,
  "nbformat_minor": 5
}